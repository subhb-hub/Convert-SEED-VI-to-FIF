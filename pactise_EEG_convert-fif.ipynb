{
 "cells": [
  {
   "cell_type": "code",
   "execution_count": 1,
   "id": "504e4009-aff0-4263-953b-c56fa6be181c",
   "metadata": {},
   "outputs": [],
   "source": [
    "import mne, os\n",
    "import numpy as np\n",
    "import pandas as pd\n",
    "import matplotlib.pyplot as plt\n",
    "import scipy.io\n",
    "import torch\n",
    "from sklearn.preprocessing import StandardScaler\n",
    "import scipy.signal as signal"
   ]
  },
  {
   "cell_type": "code",
   "execution_count": 2,
   "id": "5157b70d-1430-4851-88c1-37ce20f5da18",
   "metadata": {},
   "outputs": [],
   "source": [
    "def preprocess_eeg(eeg_data, fs):\n",
    "    # Apply common average reference (CAR) across all channels\n",
    "    average_reference = np.mean(eeg_data, axis=0)\n",
    "    car_eeg = eeg_data - average_reference\n",
    "\n",
    "    # Apply filter between 0.15 Hz and 40 Hz to the CAR-corrected EEG data\n",
    "    b, a = signal.butter(4, [0.15, 40], 'bandpass', fs=fs)\n",
    "    filtered_eeg = signal.filtfilt(b, a, car_eeg, axis=1)\n",
    "\n",
    "    return filtered_eeg\n",
    "\n",
    "def read_and_preprocess_seed_iv(file_path):\n",
    "    mat = scipy.io.loadmat(file_path)\n",
    "    eeg_keys = [key for key in mat.keys() if 'eeg' in key]\n",
    "    \n",
    "    if not eeg_keys:\n",
    "        raise KeyError(\"No keys containing 'eeg' found in the .mat file.\")\n",
    "    \n",
    "    eeg_key = eeg_keys[0]\n",
    "    raw_eeg = mat[eeg_key]\n",
    "    \n",
    "    fs = 200  # Sampling frequency\n",
    "    preprocessed_eeg = preprocess_eeg(raw_eeg, fs)\n",
    "    \n",
    "    return preprocessed_eeg, fs\n",
    "\n",
    "def create_raw_eeg_object(data, sfreq):\n",
    "    # Define the channel names\n",
    "    ch_names = ['FP1', 'FPZ', 'FP2', 'AF3', 'AF4', 'F7', 'F5', 'F3', 'F1', 'FZ', 'F2', 'F4', 'F6', 'F8', \n",
    "                'FT7', 'FC5', 'FC3', 'FC1', 'FCZ', 'FC2', 'FC4', 'FC6', 'FT8', 'T7', 'C5', 'C3', 'C1', \n",
    "                'CZ', 'C2', 'C4', 'C6', 'T8', 'TP7', 'CP5', 'CP3', 'CP1', 'CPZ', 'CP2', 'CP4', 'CP6', \n",
    "                'TP8', 'P7', 'P5', 'P3', 'P1', 'PZ', 'P2', 'P4', 'P6', 'P8', 'PO7', 'PO5', 'PO3', 'POZ', \n",
    "                'PO4', 'PO6', 'PO8', 'CB1', 'O1', 'OZ', 'O2', 'CB2']\n",
    "\n",
    "    ch_types = ['eeg'] * len(ch_names)\n",
    "    info = mne.create_info(ch_names=ch_names, sfreq=sfreq, ch_types=ch_types)\n",
    "    \n",
    "    # Create the MNE Raw object\n",
    "    raw = mne.io.RawArray(data / 1e6, info)\n",
    "    \n",
    "    return raw\n",
    "\n",
    "\n"
   ]
  },
  {
   "cell_type": "code",
   "execution_count": 3,
   "id": "776976f4-9828-4d4a-a9d3-337b77b46f94",
   "metadata": {},
   "outputs": [],
   "source": [
    "def convert2edf(dataset_folder, file_name):\n",
    "    #input the EEG origin data\n",
    "    path = os.path.join(dataset_folder, file_name)\n",
    "    file_path = path\n",
    "    preprocessed_data, sfreq = read_and_preprocess_seed_iv(file_path)\n",
    "    raw_eeg = create_raw_eeg_object(preprocessed_data, sfreq)\n",
    "    \n",
    "    # Optionally plot the raw EEG data\n",
    "    #raw_eeg.plot(show_scrollbars=True, show_scalebars=True, n_channels=raw_eeg.info['nchan'])\n",
    "\n",
    "    #add montage\n",
    "    montage = mne.channels.make_standard_montage('standard_1005')\n",
    "    raw_eeg.set_montage(montage, match_case=False)\n",
    "    \n",
    "    # Save as EDF\n",
    "    edf_file_path = file_name+'.edf'\n",
    "    raw_eeg.export(edf_file_path, fmt='edf', overwrite=True)\n",
    "    \n",
    "    # Save as FIF\n",
    "    fif_file_path = file_name+'.fif'\n",
    "    raw_eeg.save(fif_file_path, overwrite=True)\n",
    "    \n",
    "    print(f\"Data saved as EDF at: {edf_file_path}\")\n",
    "    print(f\"Data saved as FIF at: {fif_file_path}\")"
   ]
  },
  {
   "cell_type": "code",
   "execution_count": 4,
   "id": "9f456dcf-bda4-4ccd-8fc0-23cea5d88453",
   "metadata": {},
   "outputs": [
    {
     "name": "stdout",
     "output_type": "stream",
     "text": [
      "Creating RawArray with float64 data, n_channels=62, n_times=33601\n",
      "    Range : 0 ... 33600 =      0.000 ...   168.000 secs\n",
      "Ready.\n"
     ]
    },
    {
     "ename": "ValueError",
     "evalue": "DigMontage is only a subset of info. There are 2 channel positions not present in the DigMontage. The channels missing from the montage are:\n\n['CB1', 'CB2'].\n\nConsider using inst.rename_channels to match the montage nomenclature, or inst.set_channel_types if these are not EEG channels, or use the on_missing parameter if the channel positions are allowed to be unknown in your analyses.",
     "output_type": "error",
     "traceback": [
      "\u001b[1;31m---------------------------------------------------------------------------\u001b[0m",
      "\u001b[1;31mValueError\u001b[0m                                Traceback (most recent call last)",
      "Cell \u001b[1;32mIn[4], line 3\u001b[0m\n\u001b[0;32m      1\u001b[0m dataset_folder \u001b[38;5;241m=\u001b[39m \u001b[38;5;124mr\u001b[39m\u001b[38;5;124m\"\u001b[39m\u001b[38;5;124mF:\u001b[39m\u001b[38;5;124m\\\u001b[39m\u001b[38;5;124mML\u001b[39m\u001b[38;5;124m\\\u001b[39m\u001b[38;5;124mMulti\u001b[39m\u001b[38;5;124m\\\u001b[39m\u001b[38;5;124mEEG-DomainAdaptation\u001b[39m\u001b[38;5;124m\\\u001b[39m\u001b[38;5;124mdataset\u001b[39m\u001b[38;5;124m\\\u001b[39m\u001b[38;5;124mSEED_IV\u001b[39m\u001b[38;5;124m\\\u001b[39m\u001b[38;5;124meeg_raw_data\u001b[39m\u001b[38;5;124m\\\u001b[39m\u001b[38;5;124m1\u001b[39m\u001b[38;5;124m\"\u001b[39m\n\u001b[0;32m      2\u001b[0m file_name \u001b[38;5;241m=\u001b[39m \u001b[38;5;124m\"\u001b[39m\u001b[38;5;124m1_20160518.mat\u001b[39m\u001b[38;5;124m\"\u001b[39m\n\u001b[1;32m----> 3\u001b[0m \u001b[43mconvert2edf\u001b[49m\u001b[43m(\u001b[49m\u001b[43mdataset_folder\u001b[49m\u001b[43m,\u001b[49m\u001b[43m \u001b[49m\u001b[43mfile_name\u001b[49m\u001b[43m)\u001b[49m\n",
      "Cell \u001b[1;32mIn[3], line 13\u001b[0m, in \u001b[0;36mconvert2edf\u001b[1;34m(dataset_folder, file_name)\u001b[0m\n\u001b[0;32m      8\u001b[0m \u001b[38;5;66;03m# Optionally plot the raw EEG data\u001b[39;00m\n\u001b[0;32m      9\u001b[0m \u001b[38;5;66;03m#raw_eeg.plot(show_scrollbars=True, show_scalebars=True, n_channels=raw_eeg.info['nchan'])\u001b[39;00m\n\u001b[0;32m     10\u001b[0m \n\u001b[0;32m     11\u001b[0m \u001b[38;5;66;03m#add montage\u001b[39;00m\n\u001b[0;32m     12\u001b[0m montage \u001b[38;5;241m=\u001b[39m mne\u001b[38;5;241m.\u001b[39mchannels\u001b[38;5;241m.\u001b[39mmake_standard_montage(\u001b[38;5;124m'\u001b[39m\u001b[38;5;124mstandard_1005\u001b[39m\u001b[38;5;124m'\u001b[39m)\n\u001b[1;32m---> 13\u001b[0m \u001b[43mraw_eeg\u001b[49m\u001b[38;5;241;43m.\u001b[39;49m\u001b[43mset_montage\u001b[49m\u001b[43m(\u001b[49m\u001b[43mmontage\u001b[49m\u001b[43m,\u001b[49m\u001b[43m \u001b[49m\u001b[43mmatch_case\u001b[49m\u001b[38;5;241;43m=\u001b[39;49m\u001b[38;5;28;43;01mFalse\u001b[39;49;00m\u001b[43m)\u001b[49m\n\u001b[0;32m     15\u001b[0m \u001b[38;5;66;03m# Save as EDF\u001b[39;00m\n\u001b[0;32m     16\u001b[0m edf_file_path \u001b[38;5;241m=\u001b[39m file_name\u001b[38;5;241m+\u001b[39m\u001b[38;5;124m'\u001b[39m\u001b[38;5;124m.edf\u001b[39m\u001b[38;5;124m'\u001b[39m\n",
      "File \u001b[1;32m<decorator-gen-22>:12\u001b[0m, in \u001b[0;36mset_montage\u001b[1;34m(self, montage, match_case, match_alias, on_missing, verbose)\u001b[0m\n",
      "File \u001b[1;32mF:\\Anaconda\\envs\\damain\\lib\\site-packages\\mne\\_fiff\\meas_info.py:422\u001b[0m, in \u001b[0;36mMontageMixin.set_montage\u001b[1;34m(self, montage, match_case, match_alias, on_missing, verbose)\u001b[0m\n\u001b[0;32m    419\u001b[0m \u001b[38;5;28;01mfrom\u001b[39;00m\u001b[38;5;250m \u001b[39m\u001b[38;5;21;01m.\u001b[39;00m\u001b[38;5;21;01m.\u001b[39;00m\u001b[38;5;21;01mchannels\u001b[39;00m\u001b[38;5;21;01m.\u001b[39;00m\u001b[38;5;21;01mmontage\u001b[39;00m\u001b[38;5;250m \u001b[39m\u001b[38;5;28;01mimport\u001b[39;00m _set_montage\n\u001b[0;32m    421\u001b[0m info \u001b[38;5;241m=\u001b[39m \u001b[38;5;28mself\u001b[39m \u001b[38;5;28;01mif\u001b[39;00m \u001b[38;5;28misinstance\u001b[39m(\u001b[38;5;28mself\u001b[39m, Info) \u001b[38;5;28;01melse\u001b[39;00m \u001b[38;5;28mself\u001b[39m\u001b[38;5;241m.\u001b[39minfo\n\u001b[1;32m--> 422\u001b[0m \u001b[43m_set_montage\u001b[49m\u001b[43m(\u001b[49m\u001b[43minfo\u001b[49m\u001b[43m,\u001b[49m\u001b[43m \u001b[49m\u001b[43mmontage\u001b[49m\u001b[43m,\u001b[49m\u001b[43m \u001b[49m\u001b[43mmatch_case\u001b[49m\u001b[43m,\u001b[49m\u001b[43m \u001b[49m\u001b[43mmatch_alias\u001b[49m\u001b[43m,\u001b[49m\u001b[43m \u001b[49m\u001b[43mon_missing\u001b[49m\u001b[43m)\u001b[49m\n\u001b[0;32m    423\u001b[0m \u001b[38;5;28;01mreturn\u001b[39;00m \u001b[38;5;28mself\u001b[39m\n",
      "File \u001b[1;32mF:\\Anaconda\\envs\\damain\\lib\\site-packages\\mne\\channels\\montage.py:1250\u001b[0m, in \u001b[0;36m_set_montage\u001b[1;34m(***failed resolving arguments***)\u001b[0m\n\u001b[0;32m   1239\u001b[0m are_is \u001b[38;5;241m=\u001b[39m \u001b[38;5;124m\"\u001b[39m\u001b[38;5;124mare\u001b[39m\u001b[38;5;124m\"\u001b[39m \u001b[38;5;28;01mif\u001b[39;00m pl \u001b[38;5;28;01melse\u001b[39;00m \u001b[38;5;124m\"\u001b[39m\u001b[38;5;124mis\u001b[39m\u001b[38;5;124m\"\u001b[39m\n\u001b[0;32m   1240\u001b[0m missing_coord_msg \u001b[38;5;241m=\u001b[39m (\n\u001b[0;32m   1241\u001b[0m     \u001b[38;5;124mf\u001b[39m\u001b[38;5;124m\"\u001b[39m\u001b[38;5;124mDigMontage is only a subset of info. There \u001b[39m\u001b[38;5;132;01m{\u001b[39;00mare_is\u001b[38;5;132;01m}\u001b[39;00m\u001b[38;5;124m \u001b[39m\u001b[38;5;124m\"\u001b[39m\n\u001b[0;32m   1242\u001b[0m     \u001b[38;5;124mf\u001b[39m\u001b[38;5;124m\"\u001b[39m\u001b[38;5;132;01m{\u001b[39;00m\u001b[38;5;28mlen\u001b[39m(missing)\u001b[38;5;132;01m}\u001b[39;00m\u001b[38;5;124m channel position\u001b[39m\u001b[38;5;132;01m{\u001b[39;00mpl\u001b[38;5;132;01m}\u001b[39;00m\u001b[38;5;124m not present in the \u001b[39m\u001b[38;5;124m\"\u001b[39m\n\u001b[1;32m   (...)\u001b[0m\n\u001b[0;32m   1248\u001b[0m     \u001b[38;5;124mf\u001b[39m\u001b[38;5;124m\"\u001b[39m\u001b[38;5;124mposition\u001b[39m\u001b[38;5;132;01m{\u001b[39;00mpl\u001b[38;5;132;01m}\u001b[39;00m\u001b[38;5;124m \u001b[39m\u001b[38;5;132;01m{\u001b[39;00mare_is\u001b[38;5;132;01m}\u001b[39;00m\u001b[38;5;124m allowed to be unknown in your analyses.\u001b[39m\u001b[38;5;124m\"\u001b[39m\n\u001b[0;32m   1249\u001b[0m )\n\u001b[1;32m-> 1250\u001b[0m \u001b[43m_on_missing\u001b[49m\u001b[43m(\u001b[49m\u001b[43mon_missing\u001b[49m\u001b[43m,\u001b[49m\u001b[43m \u001b[49m\u001b[43mmissing_coord_msg\u001b[49m\u001b[43m)\u001b[49m\n\u001b[0;32m   1252\u001b[0m \u001b[38;5;66;03m# set ch coordinates and names from digmontage or nan coords\u001b[39;00m\n\u001b[0;32m   1253\u001b[0m \u001b[38;5;28;01mfor\u001b[39;00m ii \u001b[38;5;129;01min\u001b[39;00m missing:\n",
      "File \u001b[1;32mF:\\Anaconda\\envs\\damain\\lib\\site-packages\\mne\\utils\\check.py:1191\u001b[0m, in \u001b[0;36m_on_missing\u001b[1;34m(on_missing, msg, name, error_klass)\u001b[0m\n\u001b[0;32m   1189\u001b[0m on_missing \u001b[38;5;241m=\u001b[39m \u001b[38;5;124m\"\u001b[39m\u001b[38;5;124mwarn\u001b[39m\u001b[38;5;124m\"\u001b[39m \u001b[38;5;28;01mif\u001b[39;00m on_missing \u001b[38;5;241m==\u001b[39m \u001b[38;5;124m\"\u001b[39m\u001b[38;5;124mwarning\u001b[39m\u001b[38;5;124m\"\u001b[39m \u001b[38;5;28;01melse\u001b[39;00m on_missing\n\u001b[0;32m   1190\u001b[0m \u001b[38;5;28;01mif\u001b[39;00m on_missing \u001b[38;5;241m==\u001b[39m \u001b[38;5;124m\"\u001b[39m\u001b[38;5;124mraise\u001b[39m\u001b[38;5;124m\"\u001b[39m:\n\u001b[1;32m-> 1191\u001b[0m     \u001b[38;5;28;01mraise\u001b[39;00m error_klass(msg)\n\u001b[0;32m   1192\u001b[0m \u001b[38;5;28;01melif\u001b[39;00m on_missing \u001b[38;5;241m==\u001b[39m \u001b[38;5;124m\"\u001b[39m\u001b[38;5;124mwarn\u001b[39m\u001b[38;5;124m\"\u001b[39m:\n\u001b[0;32m   1193\u001b[0m     warn(msg)\n",
      "\u001b[1;31mValueError\u001b[0m: DigMontage is only a subset of info. There are 2 channel positions not present in the DigMontage. The channels missing from the montage are:\n\n['CB1', 'CB2'].\n\nConsider using inst.rename_channels to match the montage nomenclature, or inst.set_channel_types if these are not EEG channels, or use the on_missing parameter if the channel positions are allowed to be unknown in your analyses."
     ]
    }
   ],
   "source": [
    "\n",
    "dataset_folder = r\"F:\\ML\\Multi\\EEG-DomainAdaptation\\dataset\\SEED_IV\\eeg_raw_data\\1\"\n",
    "file_name = \"1_20160518.mat\"\n",
    "convert2edf(dataset_folder, file_name)"
   ]
  },
  {
   "cell_type": "code",
   "execution_count": null,
   "id": "26ee2d3d-1a0e-423e-ba98-a170237ce5d0",
   "metadata": {},
   "outputs": [],
   "source": []
  }
 ],
 "metadata": {
  "kernelspec": {
   "display_name": "Python 3 (ipykernel)",
   "language": "python",
   "name": "python3"
  },
  "language_info": {
   "codemirror_mode": {
    "name": "ipython",
    "version": 3
   },
   "file_extension": ".py",
   "mimetype": "text/x-python",
   "name": "python",
   "nbconvert_exporter": "python",
   "pygments_lexer": "ipython3",
   "version": "3.9.21"
  }
 },
 "nbformat": 4,
 "nbformat_minor": 5
}
