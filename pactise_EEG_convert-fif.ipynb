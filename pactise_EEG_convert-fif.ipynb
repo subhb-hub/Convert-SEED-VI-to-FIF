{
 "cells": [
  {
   "cell_type": "code",
   "execution_count": 1,
   "id": "504e4009-aff0-4263-953b-c56fa6be181c",
   "metadata": {},
   "outputs": [],
   "source": [
    "import mne, os\n",
    "import numpy as np\n",
    "import pandas as pd\n",
    "import matplotlib.pyplot as plt\n",
    "import scipy.io\n",
    "import torch\n",
    "from sklearn.preprocessing import StandardScaler\n",
    "import scipy.signal as signal"
   ]
  },
  {
   "cell_type": "code",
   "execution_count": 2,
   "id": "5157b70d-1430-4851-88c1-37ce20f5da18",
   "metadata": {},
   "outputs": [],
   "source": [
    "def preprocess_eeg(eeg_data, fs):\n",
    "    # Apply common average reference (CAR) across all channels\n",
    "    average_reference = np.mean(eeg_data, axis=0)\n",
    "    car_eeg = eeg_data - average_reference\n",
    "\n",
    "    # Apply filter between 0.15 Hz and 40 Hz to the CAR-corrected EEG data\n",
    "    b, a = signal.butter(4, [0.15, 40], 'bandpass', fs=fs)\n",
    "    filtered_eeg = signal.filtfilt(b, a, car_eeg, axis=1)\n",
    "\n",
    "    return filtered_eeg\n",
    "\n",
    "def read_and_preprocess_seed_iv(file_path):\n",
    "    mat = scipy.io.loadmat(file_path)\n",
    "    eeg_keys = [key for key in mat.keys() if 'eeg' in key]\n",
    "    \n",
    "    if not eeg_keys:\n",
    "        raise KeyError(\"No keys containing 'eeg' found in the .mat file.\")\n",
    "    \n",
    "    eeg_key = eeg_keys[0]\n",
    "    raw_eeg = mat[eeg_key]\n",
    "    \n",
    "    fs = 200  # Sampling frequency\n",
    "    preprocessed_eeg = preprocess_eeg(raw_eeg, fs)\n",
    "    \n",
    "    return preprocessed_eeg, fs\n",
    "\n",
    "def create_raw_eeg_object(data, sfreq):\n",
    "    # Define the channel names\n",
    "    ch_names = ['FP1', 'FPZ', 'FP2', 'AF3', 'AF4', 'F7', 'F5', 'F3', 'F1', 'FZ', 'F2', 'F4', 'F6', 'F8', \n",
    "                'FT7', 'FC5', 'FC3', 'FC1', 'FCZ', 'FC2', 'FC4', 'FC6', 'FT8', 'T7', 'C5', 'C3', 'C1', \n",
    "                'CZ', 'C2', 'C4', 'C6', 'T8', 'TP7', 'CP5', 'CP3', 'CP1', 'CPZ', 'CP2', 'CP4', 'CP6', \n",
    "                'TP8', 'P7', 'P5', 'P3', 'P1', 'PZ', 'P2', 'P4', 'P6', 'P8', 'PO7', 'PO5', 'PO3', 'POZ', \n",
    "                'PO4', 'PO6', 'PO8', 'CB1', 'O1', 'OZ', 'O2', 'CB2']\n",
    "\n",
    "    ch_types = ['eeg'] * len(ch_names)\n",
    "    info = mne.create_info(ch_names=ch_names, sfreq=sfreq, ch_types=ch_types)\n",
    "    \n",
    "    # Create the MNE Raw object\n",
    "    raw = mne.io.RawArray(data / 1e6, info)\n",
    "    \n",
    "    return raw\n",
    "\n",
    "\n"
   ]
  },
  {
   "cell_type": "code",
   "execution_count": 3,
   "id": "776976f4-9828-4d4a-a9d3-337b77b46f94",
   "metadata": {},
   "outputs": [],
   "source": [
    "def convert2edf(dataset_folder, file_name):\n",
    "    #input the EEG origin data\n",
    "    path = os.path.join(dataset_folder, file_name)\n",
    "    file_path = path\n",
    "    preprocessed_data, sfreq = read_and_preprocess_seed_iv(file_path)\n",
    "    raw_eeg = create_raw_eeg_object(preprocessed_data, sfreq)\n",
    "    \n",
    "    # Optionally plot the raw EEG data\n",
    "    #raw_eeg.plot(show_scrollbars=True, show_scalebars=True, n_channels=raw_eeg.info['nchan'])\n",
    "\n",
    "    #add montage\n",
    "    \n",
    "    # Add montage\n",
    "    montage = mne.channels.make_standard_montage('standard_1005')\n",
    "    raw_eeg.set_montage(montage, match_case=False, on_missing='ignore')\n",
    "    raw_eeg.drop_channels([\"CB1\", \"CB2\"])# Ignore CB1 CB2\n",
    "    \n",
    "    # Save as EDF\n",
    "    edf_file_path = file_name+'.edf'\n",
    "    raw_eeg.export(edf_file_path, fmt='edf', overwrite=True)\n",
    "    \n",
    "    # Save as FIF\n",
    "    fif_file_path = file_name+'.fif'\n",
    "    raw_eeg.save(fif_file_path, overwrite=True)\n",
    "    \n",
    "    print(f\"Data saved as EDF at: {edf_file_path}\")\n",
    "    print(f\"Data saved as FIF at: {fif_file_path}\")"
   ]
  },
  {
   "cell_type": "code",
   "execution_count": 4,
   "id": "9f456dcf-bda4-4ccd-8fc0-23cea5d88453",
   "metadata": {},
   "outputs": [
    {
     "name": "stdout",
     "output_type": "stream",
     "text": [
      "Creating RawArray with float64 data, n_channels=62, n_times=33601\n",
      "    Range : 0 ... 33600 =      0.000 ...   168.000 secs\n",
      "Ready.\n",
      "Overwriting existing file.\n",
      "Overwriting existing file.\n",
      "Writing F:\\ML\\Multi\\EEG-DomainAdaptation\\practise\\1_20160518.mat.fif\n",
      "Closing F:\\ML\\Multi\\EEG-DomainAdaptation\\practise\\1_20160518.mat.fif\n",
      "[done]\n",
      "Data saved as EDF at: 1_20160518.mat.edf\n",
      "Data saved as FIF at: 1_20160518.mat.fif\n"
     ]
    },
    {
     "name": "stderr",
     "output_type": "stream",
     "text": [
      "C:\\Users\\10856\\AppData\\Local\\Temp\\ipykernel_19892\\996114343.py:20: RuntimeWarning: EDF format requires equal-length data blocks, so 0.995 seconds of edge values were appended to all channels when writing the final block.\n",
      "  raw_eeg.export(edf_file_path, fmt='edf', overwrite=True)\n",
      "C:\\Users\\10856\\AppData\\Local\\Temp\\ipykernel_19892\\996114343.py:24: RuntimeWarning: This filename (F:\\ML\\Multi\\EEG-DomainAdaptation\\practise\\1_20160518.mat.fif) does not conform to MNE naming conventions. All raw files should end with raw.fif, raw_sss.fif, raw_tsss.fif, _meg.fif, _eeg.fif, _ieeg.fif, raw.fif.gz, raw_sss.fif.gz, raw_tsss.fif.gz, _meg.fif.gz, _eeg.fif.gz or _ieeg.fif.gz\n",
      "  raw_eeg.save(fif_file_path, overwrite=True)\n"
     ]
    }
   ],
   "source": [
    "\n",
    "dataset_folder = r\"F:\\ML\\Multi\\EEG-DomainAdaptation\\dataset\\SEED_IV\\eeg_raw_data\\1\"\n",
    "file_name = \"1_20160518.mat\"\n",
    "convert2edf(dataset_folder, file_name)"
   ]
  },
  {
   "cell_type": "code",
   "execution_count": null,
   "id": "26ee2d3d-1a0e-423e-ba98-a170237ce5d0",
   "metadata": {},
   "outputs": [],
   "source": []
  },
  {
   "cell_type": "code",
   "execution_count": null,
   "id": "7fa4b48f-36ad-43db-8e22-c12cce269030",
   "metadata": {},
   "outputs": [],
   "source": []
  }
 ],
 "metadata": {
  "kernelspec": {
   "display_name": "Python 3 (ipykernel)",
   "language": "python",
   "name": "python3"
  },
  "language_info": {
   "codemirror_mode": {
    "name": "ipython",
    "version": 3
   },
   "file_extension": ".py",
   "mimetype": "text/x-python",
   "name": "python",
   "nbconvert_exporter": "python",
   "pygments_lexer": "ipython3",
   "version": "3.9.21"
  }
 },
 "nbformat": 4,
 "nbformat_minor": 5
}
